{
 "cells": [
  {
   "attachments": {},
   "cell_type": "markdown",
   "metadata": {},
   "source": [
    "# El objetivo de este cuaderno es mostrar un resumen de los scripts\n"
   ]
  },
  {
   "attachments": {},
   "cell_type": "markdown",
   "metadata": {},
   "source": [
    "Vamos a comenzar visualizando la frecuencia l1 para ello importamos `funcionesdef.py`.\n",
    "Además vamos a meter todos los archivos de `datos` en una lista. Archivos contiene un acceso a todos los datos disponibles"
   ]
  },
  {
   "cell_type": "code",
   "execution_count": 1,
   "metadata": {},
   "outputs": [
    {
     "data": {
      "text/plain": [
       "['datos/VIGO359A00.22O',\n",
       " 'datos/BADJ122A00.22O',\n",
       " 'datos/MAD1060A0030s.23O',\n",
       " 'datos/MAD1047A00.23O',\n",
       " 'datos/TERU042A00.23O',\n",
       " 'datos/PENI168A00.22O',\n",
       " 'datos/GRA1065Q00.23O',\n",
       " 'datos/MAD1060R001s.23O']"
      ]
     },
     "execution_count": 1,
     "metadata": {},
     "output_type": "execute_result"
    }
   ],
   "source": [
    "from funcionesdef import*\n",
    "import numpy\n",
    "import os \n",
    "\n",
    "\n",
    "carpeta_datos = 'datos'\n",
    "archivos = [os.path.join(carpeta_datos, archivo) for archivo in os.listdir(carpeta_datos) if os.path.isfile(os.path.join(carpeta_datos,archivo))]\n",
    "archivos.remove('datos/read.txt')\n",
    "archivos"
   ]
  },
  {
   "attachments": {},
   "cell_type": "markdown",
   "metadata": {},
   "source": [
    "Realizaremos un análisis gráfico de los datos relacionados con los satélites de un archivo específico con el objetivo de visualizar y comprender mejor la información. Este enfoque es ampliamente utilizado en la práctica para examinar y representar los datos satelitales de manera visual.\n",
    "No voy a graficar todo por espacio. Si lo quiere simplemente ejecute esa celda."
   ]
  },
  {
   "cell_type": "code",
   "execution_count": 7,
   "metadata": {},
   "outputs": [
    {
     "data": {
      "image/png": "[encoded data removed]",
      "text/plain": [
       "<Figure size 432x288 with 1 Axes>"
      ]
     },
     "metadata": {
      "needs_background": "light"
     },
     "output_type": "display_data"
    },
    {
     "data": {
      "image/png": "[encoded data removed]",
      "text/plain": [
       "<Figure size 432x288 with 1 Axes>"
      ]
     },
     "metadata": {
      "needs_background": "light"
     },
     "output_type": "display_data"
    },
    {
     "ename": "KeyboardInterrupt",
     "evalue": "",
     "output_type": "error",
     "traceback": [
      "\u001b[0;31m---------------------------------------------------------------------------\u001b[0m",
      "\u001b[0;31mKeyboardInterrupt\u001b[0m                         Traceback (most recent call last)",
      "\u001b[0;32m/tmp/ipykernel_4178/205657756.py\u001b[0m in \u001b[0;36m<module>\u001b[0;34m\u001b[0m\n\u001b[1;32m      1\u001b[0m \u001b[0mGranada\u001b[0m \u001b[0;34m=\u001b[0m \u001b[0marchivos\u001b[0m\u001b[0;34m[\u001b[0m\u001b[0;36m6\u001b[0m\u001b[0;34m]\u001b[0m\u001b[0;34m\u001b[0m\u001b[0;34m\u001b[0m\u001b[0m\n\u001b[1;32m      2\u001b[0m \u001b[0mdict_Granada\u001b[0m \u001b[0;34m=\u001b[0m \u001b[0mall_information2\u001b[0m\u001b[0;34m(\u001b[0m\u001b[0mGranada\u001b[0m\u001b[0;34m)\u001b[0m\u001b[0;34m\u001b[0m\u001b[0;34m\u001b[0m\u001b[0m\n\u001b[0;32m----> 3\u001b[0;31m \u001b[0mgraficar_frec\u001b[0m\u001b[0;34m(\u001b[0m\u001b[0mGranada\u001b[0m\u001b[0;34m,\u001b[0m\u001b[0;36m3\u001b[0m\u001b[0;34m)\u001b[0m\u001b[0;34m\u001b[0m\u001b[0;34m\u001b[0m\u001b[0m\n\u001b[0m",
      "\u001b[0;32m~/Escritorio/TFG/funcionesdef.py\u001b[0m in \u001b[0;36mgraficar_frec\u001b[0;34m(filename, frec, tiempo)\u001b[0m\n\u001b[1;32m    192\u001b[0m \u001b[0;34m\u001b[0m\u001b[0m\n\u001b[1;32m    193\u001b[0m     \u001b[0;32mfor\u001b[0m \u001b[0mi\u001b[0m \u001b[0;32min\u001b[0m \u001b[0msats\u001b[0m\u001b[0;34m:\u001b[0m\u001b[0;34m\u001b[0m\u001b[0;34m\u001b[0m\u001b[0m\n\u001b[0;32m--> 194\u001b[0;31m         \u001b[0mdatos\u001b[0m \u001b[0;34m=\u001b[0m \u001b[0munafrecuencia\u001b[0m\u001b[0;34m(\u001b[0m\u001b[0mfilename\u001b[0m\u001b[0;34m,\u001b[0m\u001b[0mfrec\u001b[0m\u001b[0;34m,\u001b[0m \u001b[0mi\u001b[0m\u001b[0;34m)\u001b[0m\u001b[0;34m\u001b[0m\u001b[0;34m\u001b[0m\u001b[0m\n\u001b[0m\u001b[1;32m    195\u001b[0m         \u001b[0mfrecue\u001b[0m \u001b[0;34m=\u001b[0m \u001b[0;34m[\u001b[0m\u001b[0;34m'C1'\u001b[0m\u001b[0;34m,\u001b[0m \u001b[0;34m'P2'\u001b[0m\u001b[0;34m,\u001b[0m \u001b[0;34m'P5'\u001b[0m\u001b[0;34m,\u001b[0m \u001b[0;34m'L1'\u001b[0m \u001b[0;34m,\u001b[0m \u001b[0;34m'L2'\u001b[0m \u001b[0;34m,\u001b[0m \u001b[0;34m'L5'\u001b[0m \u001b[0;34m]\u001b[0m\u001b[0;34m\u001b[0m\u001b[0;34m\u001b[0m\u001b[0m\n\u001b[1;32m    196\u001b[0m         \u001b[0mplt\u001b[0m\u001b[0;34m.\u001b[0m\u001b[0mtitle\u001b[0m\u001b[0;34m(\u001b[0m\u001b[0mi\u001b[0m\u001b[0;34m)\u001b[0m\u001b[0;34m\u001b[0m\u001b[0;34m\u001b[0m\u001b[0m\n",
      "\u001b[0;32m~/Escritorio/TFG/funcionesdef.py\u001b[0m in \u001b[0;36munafrecuencia\u001b[0;34m(filename, numero, sat)\u001b[0m\n\u001b[1;32m    105\u001b[0m \u001b[0;34m\u001b[0m\u001b[0m\n\u001b[1;32m    106\u001b[0m \u001b[0;32mdef\u001b[0m \u001b[0munafrecuencia\u001b[0m\u001b[0;34m(\u001b[0m\u001b[0mfilename\u001b[0m \u001b[0;34m:\u001b[0m \u001b[0mstr\u001b[0m \u001b[0;34m,\u001b[0m \u001b[0mnumero\u001b[0m \u001b[0;34m:\u001b[0m \u001b[0mint\u001b[0m\u001b[0;34m,\u001b[0m\u001b[0msat\u001b[0m \u001b[0;34m:\u001b[0m \u001b[0mstr\u001b[0m\u001b[0;34m)\u001b[0m \u001b[0;34m->\u001b[0m \u001b[0mdict\u001b[0m\u001b[0;34m:\u001b[0m \u001b[0;31m# Me devuelve la información acerca de una frecuencia\u001b[0m\u001b[0;34m\u001b[0m\u001b[0;34m\u001b[0m\u001b[0m\n\u001b[0;32m--> 107\u001b[0;31m     \u001b[0mdatos\u001b[0m \u001b[0;34m=\u001b[0m \u001b[0mall_information2\u001b[0m\u001b[0;34m(\u001b[0m\u001b[0mfilename\u001b[0m\u001b[0;34m)\u001b[0m\u001b[0;34m\u001b[0m\u001b[0;34m\u001b[0m\u001b[0m\n\u001b[0m\u001b[1;32m    108\u001b[0m     \u001b[0mfrec\u001b[0m  \u001b[0;34m=\u001b[0m \u001b[0;34m{\u001b[0m\u001b[0;34m}\u001b[0m\u001b[0;34m\u001b[0m\u001b[0;34m\u001b[0m\u001b[0m\n\u001b[1;32m    109\u001b[0m     \u001b[0;32mfor\u001b[0m \u001b[0mi\u001b[0m \u001b[0;32min\u001b[0m \u001b[0mrange\u001b[0m\u001b[0;34m(\u001b[0m\u001b[0;36m1\u001b[0m\u001b[0;34m,\u001b[0m\u001b[0;36m3601\u001b[0m\u001b[0;34m,\u001b[0m\u001b[0;36m1\u001b[0m\u001b[0;34m)\u001b[0m \u001b[0;34m:\u001b[0m\u001b[0;34m\u001b[0m\u001b[0;34m\u001b[0m\u001b[0m\n",
      "\u001b[0;32m~/Escritorio/TFG/funcionesdef.py\u001b[0m in \u001b[0;36mall_information2\u001b[0;34m(filename)\u001b[0m\n\u001b[1;32m     71\u001b[0m     \u001b[0;32mfor\u001b[0m \u001b[0mi\u001b[0m \u001b[0;32min\u001b[0m \u001b[0mrange\u001b[0m\u001b[0;34m(\u001b[0m\u001b[0mlen\u001b[0m\u001b[0;34m(\u001b[0m\u001b[0mlines\u001b[0m\u001b[0;34m)\u001b[0m\u001b[0;34m)\u001b[0m\u001b[0;34m:\u001b[0m\u001b[0;34m\u001b[0m\u001b[0;34m\u001b[0m\u001b[0m\n\u001b[1;32m     72\u001b[0m \u001b[0;34m\u001b[0m\u001b[0m\n\u001b[0;32m---> 73\u001b[0;31m         \u001b[0;32mif\u001b[0m \u001b[0;34m(\u001b[0m\u001b[0mlen\u001b[0m\u001b[0;34m(\u001b[0m\u001b[0;34m(\u001b[0m\u001b[0mlines\u001b[0m\u001b[0;34m[\u001b[0m\u001b[0mi\u001b[0m\u001b[0;34m]\u001b[0m\u001b[0;34m)\u001b[0m\u001b[0;34m)\u001b[0m\u001b[0;34m<\u001b[0m\u001b[0;36m20\u001b[0m \u001b[0;32mand\u001b[0m \u001b[0mlen\u001b[0m\u001b[0;34m(\u001b[0m\u001b[0mwords\u001b[0m\u001b[0;34m(\u001b[0m\u001b[0mlines\u001b[0m\u001b[0;34m[\u001b[0m\u001b[0mi\u001b[0m\u001b[0;34m-\u001b[0m\u001b[0;36m1\u001b[0m\u001b[0;34m]\u001b[0m\u001b[0;34m)\u001b[0m\u001b[0;34m)\u001b[0m \u001b[0;34m==\u001b[0m \u001b[0;36m8\u001b[0m\u001b[0;34m)\u001b[0m\u001b[0;34m:\u001b[0m\u001b[0;34m\u001b[0m\u001b[0;34m\u001b[0m\u001b[0m\n\u001b[0m\u001b[1;32m     74\u001b[0m             \u001b[0mlista\u001b[0m\u001b[0;34m.\u001b[0m\u001b[0mappend\u001b[0m\u001b[0;34m(\u001b[0m\u001b[0mwords\u001b[0m\u001b[0;34m(\u001b[0m\u001b[0mlines\u001b[0m\u001b[0;34m[\u001b[0m\u001b[0mi\u001b[0m\u001b[0;34m]\u001b[0m\u001b[0;34m)\u001b[0m\u001b[0;34m)\u001b[0m\u001b[0;34m\u001b[0m\u001b[0;34m\u001b[0m\u001b[0m\n\u001b[1;32m     75\u001b[0m \u001b[0;34m\u001b[0m\u001b[0m\n",
      "\u001b[0;32m~/Escritorio/TFG/funcionesdef.py\u001b[0m in \u001b[0;36mwords\u001b[0;34m(s)\u001b[0m\n\u001b[1;32m     15\u001b[0m         \u001b[0;32melif\u001b[0m \u001b[0;34m(\u001b[0m\u001b[0ms\u001b[0m\u001b[0;34m[\u001b[0m\u001b[0mi\u001b[0m\u001b[0;34m]\u001b[0m \u001b[0;34m!=\u001b[0m \u001b[0;34m\" \"\u001b[0m\u001b[0;34m)\u001b[0m\u001b[0;34m:\u001b[0m\u001b[0;34m\u001b[0m\u001b[0;34m\u001b[0m\u001b[0m\n\u001b[1;32m     16\u001b[0m             \u001b[0maux\u001b[0m \u001b[0;34m+=\u001b[0m \u001b[0ms\u001b[0m\u001b[0;34m[\u001b[0m\u001b[0mi\u001b[0m\u001b[0;34m]\u001b[0m\u001b[0;34m\u001b[0m\u001b[0;34m\u001b[0m\u001b[0m\n\u001b[0;32m---> 17\u001b[0;31m             \u001b[0mindicador\u001b[0m \u001b[0;34m=\u001b[0m \u001b[0;36m0\u001b[0m\u001b[0;34m\u001b[0m\u001b[0;34m\u001b[0m\u001b[0m\n\u001b[0m\u001b[1;32m     18\u001b[0m         \u001b[0;32melse\u001b[0m\u001b[0;34m:\u001b[0m\u001b[0;34m\u001b[0m\u001b[0;34m\u001b[0m\u001b[0m\n\u001b[1;32m     19\u001b[0m             \u001b[0;32mif\u001b[0m \u001b[0;34m(\u001b[0m\u001b[0maux\u001b[0m \u001b[0;34m!=\u001b[0m \u001b[0;34m\"\"\u001b[0m \u001b[0;32mor\u001b[0m \u001b[0mindicador\u001b[0m\u001b[0;34m>\u001b[0m\u001b[0;36m17\u001b[0m\u001b[0;34m)\u001b[0m\u001b[0;34m:\u001b[0m \u001b[0;31m#Es un caso especial\u001b[0m\u001b[0;34m\u001b[0m\u001b[0;34m\u001b[0m\u001b[0m\n",
      "\u001b[0;31mKeyboardInterrupt\u001b[0m: "
     ]
    }
   ],
   "source": [
    "Granada = archivos[6]\n",
    "dict_Granada = all_information2(Granada)\n",
    "graficar_frec(Granada,3)"
   ]
  },
  {
   "attachments": {},
   "cell_type": "markdown",
   "metadata": {},
   "source": [
    "Ahora vamos a utilizar estos datos para implementar los siguientes algoritmos para el satélite *G23*"
   ]
  },
  {
   "attachments": {},
   "cell_type": "markdown",
   "metadata": {},
   "source": [
    "## Métodos multifrecuencia"
   ]
  },
  {
   "attachments": {},
   "cell_type": "markdown",
   "metadata": {},
   "source": [
    "#### Combinación libre de geometría L1-L2\n",
    "\n",
    "* Método1: \n",
    "\n",
    "* Método2:\n",
    "\n",
    "Ambos métodos tienen tres variable:\n",
    "\n",
    "1. datos, donde tenemos que insertar los datos sobre la frecuencia o combinación de frecuencias.\n",
    "2. Numero de muestras a tomar por polinomio. \n",
    "3. Multiplo, que será las veces por las que multiplicaremos el umbral( múltiplo de la desviación típica de los residuos)"
   ]
  },
  {
   "cell_type": "code",
   "execution_count": 3,
   "metadata": {},
   "outputs": [],
   "source": [
    "#Datos a utilizar\n",
    "Granada = archivos[6]\n",
    "sat = 'G23'\n",
    "l1 = L1(Granada, sat)\n",
    "l2 = L2(Granada, sat)"
   ]
  },
  {
   "attachments": {},
   "cell_type": "markdown",
   "metadata": {},
   "source": [
    "El umbral tiene relación con la desviación tipica por lo que la tercera variable de algoritmo será el múltiplo por el que multiplicaremos la desviación típica "
   ]
  },
  {
   "cell_type": "code",
   "execution_count": 5,
   "metadata": {},
   "outputs": [
    {
     "data": {
      "image/png": "[encoded data removed]",
      "text/plain": [
       "<Figure size 432x288 with 1 Axes>"
      ]
     },
     "metadata": {
      "needs_background": "light"
     },
     "output_type": "display_data"
    }
   ],
   "source": [
    "from combinacion_libre_geo import algoritmo as algoritmo_geo\n",
    "N = 10\n",
    "multiplo = 3\n",
    "datos = f1menosf2(l1,l2)\n",
    "saltos = algoritmo_geo(datos,N,3)\n",
    "saltos_geo = [ i for i in saltos if i !=0]\n"
   ]
  },
  {
   "attachments": {},
   "cell_type": "markdown",
   "metadata": {},
   "source": [
    "Para `combinacion_libre_geo2` es análogo el proceso"
   ]
  },
  {
   "attachments": {},
   "cell_type": "markdown",
   "metadata": {},
   "source": [
    "### Combinación libre de ionosfera\n",
    "Realizaremos un proceso análogo al anterior a difrencia de que los datos serán la combinación libre de ionosfera"
   ]
  },
  {
   "cell_type": "code",
   "execution_count": 6,
   "metadata": {},
   "outputs": [
    {
     "data": {
      "image/png": "[encoded data removed]",
      "text/plain": [
       "<Figure size 432x288 with 1 Axes>"
      ]
     },
     "metadata": {
      "needs_background": "light"
     },
     "output_type": "display_data"
    }
   ],
   "source": [
    "from combinacion_libre_io import algoritmo as algoritmo_io\n",
    "N = 10\n",
    "multiplo = 3\n",
    "datos = combinacion_libre_ios(l1, l2)\n",
    "saltos = algoritmo_io(datos,N,multiplo)\n",
    "saltos_io = [ i for i in saltos if i !=0]"
   ]
  },
  {
   "attachments": {},
   "cell_type": "markdown",
   "metadata": {},
   "source": [
    "### Comparación de saltos de la combinación libre de geometría e ionosfera\n",
    "Observación: el algoritmo que se encuentra en `combinacion_geo_iono.py` realiza un proceso análogo a esto que realizaré a continuación"
   ]
  },
  {
   "cell_type": "code",
   "execution_count": 13,
   "metadata": {},
   "outputs": [
    {
     "name": "stdout",
     "output_type": "stream",
     "text": [
      "Saltos de ciclo detectados con la combinación libre de geometría son: \n",
      "[31, 34, 35, 36, 37, 38, 168, 171, 172, 173, 176, 177, 181, 183, 184, 185, 187, 188, 191, 192, 193, 195, 196, 198, 201, 203, 204, 205, 206, 207, 208, 231, 233, 254, 258, 267, 273, 275, 276, 285, 287, 288, 291, 293, 294, 295, 297, 298, 308, 311, 312, 313, 318, 341, 343, 344, 346, 358, 361, 368, 2008, 2009, 2441, 2443, 2444, 2446, 2447, 2565, 2574, 2578]\n",
      " Saltos de ciclo detectados con la combinación libre de ionosfera son: \n",
      "[31, 34, 35, 36, 37, 38, 168, 171, 172, 173, 176, 177, 181, 183, 184, 185, 187, 188, 191, 192, 193, 195, 196, 198, 201, 203, 204, 205, 206, 207, 208, 231, 233, 254, 258, 267, 273, 275, 276, 285, 287, 288, 291, 293, 294, 295, 297, 298, 308, 311, 312, 313, 318, 341, 343, 344, 346, 358, 361, 362, 368, 2008, 2009, 2441, 2443, 2444, 2446, 2447, 2565, 2574, 2578]\n",
      "\n",
      "\n",
      "El % de saltos de comunes 0.9859154929577465\n"
     ]
    },
    {
     "data": {
      "text/plain": [
       "[362]"
      ]
     },
     "execution_count": 13,
     "metadata": {},
     "output_type": "execute_result"
    }
   ],
   "source": [
    "print(f\"Saltos de ciclo detectados con la combinación libre de geometría son: \\n{saltos_geo}\\n Saltos de ciclo detectados con la combinación libre de ionosfera son: \\n{saltos_io}\\n\")\n",
    "saltos_comunes = list(set(saltos_geo) & set(saltos_io))\n",
    "saltos_nocomunes = list(set(saltos_geo) ^ set(saltos_io))\n",
    "print(f\"\\nEl % de saltos de comunes {len(saltos_comunes)/(len(saltos_comunes)+len(saltos_nocomunes))}\")\n",
    "saltos_nocomunes\n"
   ]
  },
  {
   "attachments": {},
   "cell_type": "markdown",
   "metadata": {},
   "source": [
    "Ahora podríamos realizar un estudio sobre esos valores para ver que sucede con esos valores"
   ]
  },
  {
   "attachments": {},
   "cell_type": "markdown",
   "metadata": {},
   "source": [
    "## Métodos de simple frecuencia"
   ]
  },
  {
   "attachments": {},
   "cell_type": "markdown",
   "metadata": {},
   "source": [
    "### Algoritmo basado en clustering la idea es analizar los saltos de ciclo en función de los clústers"
   ]
  },
  {
   "attachments": {},
   "cell_type": "markdown",
   "metadata": {},
   "source": [
    "En este algoritmo incluimos las siguientes variables:\n",
    "1. Datos \n",
    "2. Número de muestras a tomar \n",
    "\n",
    "Observación: el umbral lo elige el algoritmo en función del coeficiente de Silhouette"
   ]
  },
  {
   "cell_type": "code",
   "execution_count": 11,
   "metadata": {},
   "outputs": [
    {
     "data": {
      "image/png": "[encoded data removed]",
      "text/plain": [
       "<Figure size 432x288 with 1 Axes>"
      ]
     },
     "metadata": {
      "needs_background": "light"
     },
     "output_type": "display_data"
    },
    {
     "name": "stdout",
     "output_type": "stream",
     "text": [
      "RANGO entre 0 35\n",
      "SALTO DE CICLO\n",
      "RANGO entre 35 70\n",
      "SALTO DE CICLO\n",
      "RANGO entre 70 105\n",
      "SALTO DE CICLO\n",
      "RANGO entre 105 140\n",
      "{0, -1}\n",
      "RANGO entre 140 175\n",
      "{0, -1}\n",
      "RANGO entre 175 210\n",
      "{0, -1}\n",
      "RANGO entre 210 245\n",
      "{0, -1}\n",
      "RANGO entre 245 280\n",
      "{0, -1}\n",
      "RANGO entre 280 315\n",
      "{0, -1}\n",
      "RANGO entre 315 350\n",
      "{0, -1}\n",
      "RANGO entre 350 385\n",
      "{0, -1}\n",
      "RANGO entre 385 420\n",
      "{0, -1}\n",
      "RANGO entre 420 455\n",
      "{0, -1}\n",
      "RANGO entre 455 490\n",
      "{0, -1}\n",
      "RANGO entre 490 525\n",
      "{0, -1}\n",
      "RANGO entre 525 560\n",
      "{0, -1}\n",
      "RANGO entre 560 595\n",
      "{0, -1}\n",
      "RANGO entre 595 630\n",
      "{0, -1}\n",
      "RANGO entre 630 665\n",
      "{0, -1}\n",
      "RANGO entre 665 700\n",
      "{0, -1}\n",
      "RANGO entre 700 735\n",
      "{0, -1}\n",
      "RANGO entre 735 770\n",
      "{0}\n",
      "RANGO entre 770 805\n",
      "{0, -1}\n",
      "RANGO entre 805 840\n",
      "{0, -1}\n"
     ]
    }
   ],
   "source": [
    "from clustering import algoritmo as algoritmo_clustering\n",
    "Madrid = archivos[2]\n",
    "sat = 'G16'\n",
    "N = 35\n",
    "datos = L2(Madrid,sat)\n",
    "algoritmo_clustering(datos,N)"
   ]
  },
  {
   "attachments": {},
   "cell_type": "markdown",
   "metadata": {},
   "source": [
    "### Algoritmo basado en regresión lineal\n",
    "\n",
    "Este método tiene 3 variables:\n",
    "\n",
    "1. datos, donde tenemos que insertar los datos sobre la frecuencia o combinación de frecuencias.\n",
    "2. Numero de muestras a tomar por el algoritmo. \n",
    "3. El umbral es la media + 2 veces la desviación típica[Cambiar por r²]\n"
   ]
  },
  {
   "cell_type": "code",
   "execution_count": 1,
   "metadata": {},
   "outputs": [
    {
     "ename": "NameError",
     "evalue": "name 'archivos' is not defined",
     "output_type": "error",
     "traceback": [
      "\u001b[0;31m---------------------------------------------------------------------------\u001b[0m",
      "\u001b[0;31mNameError\u001b[0m                                 Traceback (most recent call last)",
      "\u001b[0;32m/tmp/ipykernel_4814/2794779572.py\u001b[0m in \u001b[0;36m<module>\u001b[0;34m\u001b[0m\n\u001b[1;32m      1\u001b[0m \u001b[0;32mfrom\u001b[0m \u001b[0mregresion2\u001b[0m \u001b[0;32mimport\u001b[0m \u001b[0malgoritmo\u001b[0m\u001b[0;34m\u001b[0m\u001b[0;34m\u001b[0m\u001b[0m\n\u001b[0;32m----> 2\u001b[0;31m \u001b[0mMadrid\u001b[0m \u001b[0;34m=\u001b[0m \u001b[0marchivos\u001b[0m\u001b[0;34m[\u001b[0m\u001b[0;36m5\u001b[0m\u001b[0;34m]\u001b[0m\u001b[0;34m\u001b[0m\u001b[0;34m\u001b[0m\u001b[0m\n\u001b[0m\u001b[1;32m      3\u001b[0m \u001b[0mdict_Madrid\u001b[0m \u001b[0;34m=\u001b[0m \u001b[0mall_information2\u001b[0m\u001b[0;34m(\u001b[0m\u001b[0mMadrid\u001b[0m\u001b[0;34m)\u001b[0m\u001b[0;34m\u001b[0m\u001b[0;34m\u001b[0m\u001b[0m\n\u001b[1;32m      4\u001b[0m \u001b[0msat\u001b[0m \u001b[0;34m=\u001b[0m \u001b[0;34m'G16'\u001b[0m \u001b[0;31m#Obtenido graficando y analizando\u001b[0m\u001b[0;34m\u001b[0m\u001b[0;34m\u001b[0m\u001b[0m\n\u001b[1;32m      5\u001b[0m \u001b[0mdatos\u001b[0m \u001b[0;34m=\u001b[0m \u001b[0mL2\u001b[0m\u001b[0;34m(\u001b[0m\u001b[0mMadrid\u001b[0m\u001b[0;34m,\u001b[0m\u001b[0msat\u001b[0m\u001b[0;34m)\u001b[0m\u001b[0;34m\u001b[0m\u001b[0;34m\u001b[0m\u001b[0m\n",
      "\u001b[0;31mNameError\u001b[0m: name 'archivos' is not defined"
     ]
    }
   ],
   "source": [
    "from regresion2 import algoritmo\n",
    "Madrid = archivos[5]\n",
    "dict_Madrid = all_information2(Madrid)\n",
    "sat = 'G16' #Obtenido graficando y analizando\n",
    "datos = L2(Madrid,sat)\n",
    "graficar_sat(Madrid,4,sat)\n",
    "paso = 9\n",
    "algoritmo(datos,paso)"
   ]
  },
  {
   "attachments": {},
   "cell_type": "markdown",
   "metadata": {},
   "source": [
    "Ahora vamos a verificar esos saltos con un contraste de hipótesis"
   ]
  },
  {
   "cell_type": "code",
   "execution_count": 25,
   "metadata": {},
   "outputs": [
    {
     "data": {
      "text/plain": [
       "[False, False, True, False, False, True, True]"
      ]
     },
     "execution_count": 25,
     "metadata": {},
     "output_type": "execute_result"
    }
   ],
   "source": [
    "from contraste2 import comprobacion\n",
    "comprobacion(datos,paso)"
   ]
  },
  {
   "attachments": {},
   "cell_type": "markdown",
   "metadata": {},
   "source": [
    "### Algoritmo basado en MAD y desviación típica"
   ]
  },
  {
   "cell_type": "markdown",
   "metadata": {},
   "source": []
  }
 ],
 "metadata": {
  "kernelspec": {
   "display_name": "Python 3",
   "language": "python",
   "name": "python3"
  },
  "language_info": {
   "codemirror_mode": {
    "name": "ipython",
    "version": 3
   },
   "file_extension": ".py",
   "mimetype": "text/x-python",
   "name": "python",
   "nbconvert_exporter": "python",
   "pygments_lexer": "ipython3",
   "version": "3.10.6"
  },
  "orig_nbformat": 4
 },
 "nbformat": 4,
 "nbformat_minor": 2
}
